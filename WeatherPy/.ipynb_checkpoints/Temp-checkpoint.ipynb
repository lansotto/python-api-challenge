{
 "cells": [
  {
   "cell_type": "code",
   "execution_count": 2,
   "id": "b6e0549f",
   "metadata": {},
   "outputs": [],
   "source": [
    "# Dependencies and Setup\n",
    "import matplotlib.pyplot as plt\n",
    "import pandas as pd\n",
    "import numpy as np\n",
    "import requests\n",
    "import time\n",
    "from scipy.stats import linregress\n",
    "import json\n",
    "from pprint import pprint\n",
    "\n",
    "# Impor the OpenWeatherMap API key\n",
    "from api_keys import weather_api_key\n",
    "\n",
    "# Import citipy to determine the cities based on latitude and longitude\n",
    "from citipy import citipy"
   ]
  },
  {
   "cell_type": "code",
   "execution_count": 3,
   "id": "e3447ac7",
   "metadata": {},
   "outputs": [
    {
     "ename": "NameError",
     "evalue": "name 'api_key' is not defined",
     "output_type": "error",
     "traceback": [
      "\u001b[0;31m---------------------------------------------------------------------------\u001b[0m",
      "\u001b[0;31mNameError\u001b[0m                                 Traceback (most recent call last)",
      "\u001b[0;32m/var/folders/0p/153rzb85259_hj2vtznb45r00000gn/T/ipykernel_1883/3058107862.py\u001b[0m in \u001b[0;36m<module>\u001b[0;34m\u001b[0m\n\u001b[1;32m      4\u001b[0m \u001b[0munits\u001b[0m \u001b[0;34m=\u001b[0m \u001b[0;34m\"metric\"\u001b[0m\u001b[0;34m\u001b[0m\u001b[0;34m\u001b[0m\u001b[0m\n\u001b[1;32m      5\u001b[0m \u001b[0;34m\u001b[0m\u001b[0m\n\u001b[0;32m----> 6\u001b[0;31m \u001b[0mcomplete_url\u001b[0m \u001b[0;34m=\u001b[0m \u001b[0;34mf\"{url}appid={api_key}&q={city}&units={units}\"\u001b[0m\u001b[0;34m\u001b[0m\u001b[0;34m\u001b[0m\u001b[0m\n\u001b[0m\u001b[1;32m      7\u001b[0m \u001b[0;34m\u001b[0m\u001b[0m\n\u001b[1;32m      8\u001b[0m \u001b[0mresponse_json\u001b[0m \u001b[0;34m=\u001b[0m \u001b[0mrequests\u001b[0m\u001b[0;34m.\u001b[0m\u001b[0mget\u001b[0m\u001b[0;34m(\u001b[0m\u001b[0mcomplete_url\u001b[0m\u001b[0;34m)\u001b[0m\u001b[0;34m.\u001b[0m\u001b[0mjson\u001b[0m\u001b[0;34m(\u001b[0m\u001b[0;34m)\u001b[0m\u001b[0;34m\u001b[0m\u001b[0;34m\u001b[0m\u001b[0m\n",
      "\u001b[0;31mNameError\u001b[0m: name 'api_key' is not defined"
     ]
    }
   ],
   "source": [
    "url = \"http://api.openweathermap.org/data/2.5/weather?\" \n",
    "#http://api.openweathermap.org/data/2.5/weather?\n",
    "city = \"london\"\n",
    "units = \"metric\"\n",
    "\n",
    "complete_url = f\"{url}appid={api_key}&q={city}&units={units}\"\n",
    "\n",
    "response_json = requests.get(complete_url).json()\n",
    "print(json.dumps(response_json, indent=4, sort_keys=True))\n",
    "#pprint.pprint(response_json)"
   ]
  },
  {
   "cell_type": "code",
   "execution_count": 15,
   "id": "e61fb4de",
   "metadata": {},
   "outputs": [
    {
     "name": "stdout",
     "output_type": "stream",
     "text": [
      "[{'id': 802, 'main': 'Clouds', 'description': 'scattered clouds', 'icon': '03n'}]\n"
     ]
    }
   ],
   "source": [
    "# Parse the JSON and retrieve data\n",
    "#city_weather = # YOUR CODE HERE\n",
    "print(response_json[\"weather\"])"
   ]
  },
  {
   "cell_type": "code",
   "execution_count": 19,
   "id": "d3e32e7c",
   "metadata": {},
   "outputs": [
    {
     "data": {
      "text/plain": [
       "4.63"
      ]
     },
     "execution_count": 19,
     "metadata": {},
     "output_type": "execute_result"
    }
   ],
   "source": [
    "city_lat = response_json[\"coord\"][\"lat\"]\n",
    "city_lng = response_json[\"coord\"][\"lon\"]\n",
    "city_max_temp = response_json[\"main\"][\"temp_max\"]\n",
    "city_humidity = response_json[\"main\"][\"humidity\"]\n",
    "city_clouds = response_json[\"clouds\"][\"all\"]\n",
    "city_wind = response_json[\"wind\"][\"speed\"]\n",
    "city_country = response_json[\"sys\"][\"country\"]\n",
    "city_date = response_json[\"dt\"]\n",
    "city_id = response_json[\"id\"]\n",
    "city_wind"
   ]
  },
  {
   "cell_type": "code",
   "execution_count": 68,
   "id": "6e260513",
   "metadata": {},
   "outputs": [
    {
     "data": {
      "text/plain": [
       "[{'id': 500, 'main': 'Rain', 'description': 'light rain', 'icon': '10n'},\n",
       " {'id': 701, 'main': 'Mist', 'description': 'mist', 'icon': '50n'}]"
      ]
     },
     "execution_count": 68,
     "metadata": {},
     "output_type": "execute_result"
    }
   ],
   "source": [
    "city_weather = response_json[\"weather\"]\n",
    "city_weather"
   ]
  },
  {
   "cell_type": "code",
   "execution_count": null,
   "id": "d49c5220",
   "metadata": {},
   "outputs": [],
   "source": []
  }
 ],
 "metadata": {
  "kernelspec": {
   "display_name": "PyhtonData",
   "language": "python",
   "name": "pyhtondata"
  },
  "language_info": {
   "codemirror_mode": {
    "name": "ipython",
    "version": 3
   },
   "file_extension": ".py",
   "mimetype": "text/x-python",
   "name": "python",
   "nbconvert_exporter": "python",
   "pygments_lexer": "ipython3",
   "version": "3.7.7"
  }
 },
 "nbformat": 4,
 "nbformat_minor": 5
}
