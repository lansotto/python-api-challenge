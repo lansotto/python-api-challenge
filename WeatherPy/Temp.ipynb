{
 "cells": [
  {
   "cell_type": "code",
   "execution_count": 33,
   "id": "b6e0549f",
   "metadata": {},
   "outputs": [],
   "source": [
    "# Dependencies and Setup\n",
    "import matplotlib.pyplot as plt\n",
    "import pandas as pd\n",
    "import numpy as np\n",
    "import requests\n",
    "import time\n",
    "from scipy.stats import linregress\n",
    "import json\n",
    "\n",
    "# Impor the OpenWeatherMap API key\n",
    "from api_keys import weather_api_key\n",
    "\n",
    "# Import citipy to determine the cities based on latitude and longitude\n",
    "from citipy import citipy"
   ]
  },
  {
   "cell_type": "code",
   "execution_count": 70,
   "id": "e3447ac7",
   "metadata": {},
   "outputs": [
    {
     "name": "stdout",
     "output_type": "stream",
     "text": [
      "https://api.openweathermap.org/data/2.5/weather?q=Kodiak&appid=659223993a6a845d76669c16e400f65c\n",
      "{\n",
      "    \"base\": \"stations\",\n",
      "    \"clouds\": {\n",
      "        \"all\": 100\n",
      "    },\n",
      "    \"cod\": 200,\n",
      "    \"coord\": {\n",
      "        \"lat\": 57.79,\n",
      "        \"lon\": -152.4072\n",
      "    },\n",
      "    \"dt\": 1675057651,\n",
      "    \"id\": 5866583,\n",
      "    \"main\": {\n",
      "        \"feels_like\": 276.88,\n",
      "        \"humidity\": 100,\n",
      "        \"pressure\": 1021,\n",
      "        \"temp\": 276.88,\n",
      "        \"temp_max\": 276.88,\n",
      "        \"temp_min\": 276.88\n",
      "    },\n",
      "    \"name\": \"Saint Paul Harbor\",\n",
      "    \"rain\": {\n",
      "        \"1h\": 0.76\n",
      "    },\n",
      "    \"sys\": {\n",
      "        \"country\": \"US\",\n",
      "        \"id\": 7668,\n",
      "        \"sunrise\": 1675016308,\n",
      "        \"sunset\": 1675045612,\n",
      "        \"type\": 1\n",
      "    },\n",
      "    \"timezone\": -32400,\n",
      "    \"visibility\": 2816,\n",
      "    \"weather\": [\n",
      "        {\n",
      "            \"description\": \"light rain\",\n",
      "            \"icon\": \"10n\",\n",
      "            \"id\": 500,\n",
      "            \"main\": \"Rain\"\n",
      "        },\n",
      "        {\n",
      "            \"description\": \"mist\",\n",
      "            \"icon\": \"50n\",\n",
      "            \"id\": 701,\n",
      "            \"main\": \"Mist\"\n",
      "        }\n",
      "    ],\n",
      "    \"wind\": {\n",
      "        \"deg\": 0,\n",
      "        \"speed\": 0\n",
      "    }\n",
      "}\n"
     ]
    }
   ],
   "source": [
    "url = \"https://api.openweathermap.org/data/2.5/weather?q=\" \n",
    "city = \"kodiak\"\n",
    "city_url = city.title() + \"&appid=\" + weather_api_key\n",
    "complete_url = url + city_url\n",
    "#https://api.openweathermap.org/data/2.5/weather?q=London&appid={API key}\n",
    "print(complete_url)\n",
    "#response = requests.get(complete_url)\n",
    "response_json = requests.get(complete_url).json()\n",
    "print(json.dumps(response_json, indent=4, sort_keys=True))"
   ]
  },
  {
   "cell_type": "code",
   "execution_count": 38,
   "id": "e61fb4de",
   "metadata": {},
   "outputs": [
    {
     "name": "stdout",
     "output_type": "stream",
     "text": [
      "[{'id': 802, 'main': 'Clouds', 'description': 'scattered clouds', 'icon': '03n'}]\n"
     ]
    }
   ],
   "source": [
    "# Parse the JSON and retrieve data\n",
    "#city_weather = # YOUR CODE HERE\n",
    "print(response_json[\"weather\"])"
   ]
  },
  {
   "cell_type": "code",
   "execution_count": 63,
   "id": "d3e32e7c",
   "metadata": {},
   "outputs": [
    {
     "data": {
      "text/plain": [
       "1675055666"
      ]
     },
     "execution_count": 63,
     "metadata": {},
     "output_type": "execute_result"
    }
   ],
   "source": [
    "city_lat = response_json[\"coord\"][\"lat\"]\n",
    "city_lng = response_json[\"coord\"][\"lon\"]\n",
    "city_max_temp = response_json[\"main\"][\"temp_max\"]\n",
    "city_humidity = response_json[\"main\"][\"humidity\"]\n",
    "city_clouds = response_json[\"clouds\"]\n",
    "city_wind = response_json[\"wind\"]\n",
    "city_country = response_json[\"sys\"][\"country\"]\n",
    "city_date = response_json[\"dt\"]\n",
    "city_date"
   ]
  },
  {
   "cell_type": "code",
   "execution_count": 68,
   "id": "6e260513",
   "metadata": {},
   "outputs": [
    {
     "data": {
      "text/plain": [
       "[{'id': 500, 'main': 'Rain', 'description': 'light rain', 'icon': '10n'},\n",
       " {'id': 701, 'main': 'Mist', 'description': 'mist', 'icon': '50n'}]"
      ]
     },
     "execution_count": 68,
     "metadata": {},
     "output_type": "execute_result"
    }
   ],
   "source": [
    "city_weather = response_json[\"weather\"]\n",
    "city_weather"
   ]
  },
  {
   "cell_type": "code",
   "execution_count": null,
   "id": "d49c5220",
   "metadata": {},
   "outputs": [],
   "source": []
  }
 ],
 "metadata": {
  "kernelspec": {
   "display_name": "PyhtonData",
   "language": "python",
   "name": "pyhtondata"
  },
  "language_info": {
   "codemirror_mode": {
    "name": "ipython",
    "version": 3
   },
   "file_extension": ".py",
   "mimetype": "text/x-python",
   "name": "python",
   "nbconvert_exporter": "python",
   "pygments_lexer": "ipython3",
   "version": "3.7.7"
  }
 },
 "nbformat": 4,
 "nbformat_minor": 5
}
