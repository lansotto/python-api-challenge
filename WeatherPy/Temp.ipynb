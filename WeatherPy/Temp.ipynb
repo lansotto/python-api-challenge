{
 "cells": [
  {
   "cell_type": "code",
   "execution_count": 13,
   "id": "b6e0549f",
   "metadata": {},
   "outputs": [],
   "source": [
    "# Dependencies and Setup\n",
    "import matplotlib.pyplot as plt\n",
    "import pandas as pd\n",
    "import numpy as np\n",
    "import requests\n",
    "import time\n",
    "from scipy.stats import linregress\n",
    "import json\n",
    "from pprint import pprint\n",
    "\n",
    "# Impor the OpenWeatherMap API key\n",
    "from api_keys import weather_api_key\n",
    "\n",
    "# Import citipy to determine the cities based on latitude and longitude\n",
    "from citipy import citipy"
   ]
  },
  {
   "cell_type": "code",
   "execution_count": 14,
   "id": "e3447ac7",
   "metadata": {},
   "outputs": [
    {
     "name": "stdout",
     "output_type": "stream",
     "text": [
      "{\n",
      "    \"base\": \"stations\",\n",
      "    \"clouds\": {\n",
      "        \"all\": 40\n",
      "    },\n",
      "    \"cod\": 200,\n",
      "    \"coord\": {\n",
      "        \"lat\": 51.5085,\n",
      "        \"lon\": -0.1257\n",
      "    },\n",
      "    \"dt\": 1675135860,\n",
      "    \"id\": 2643743,\n",
      "    \"main\": {\n",
      "        \"feels_like\": 275.15,\n",
      "        \"humidity\": 85,\n",
      "        \"pressure\": 1024,\n",
      "        \"temp\": 278.54,\n",
      "        \"temp_max\": 279.61,\n",
      "        \"temp_min\": 276.96\n",
      "    },\n",
      "    \"name\": \"London\",\n",
      "    \"sys\": {\n",
      "        \"country\": \"GB\",\n",
      "        \"id\": 2075535,\n",
      "        \"sunrise\": 1675150859,\n",
      "        \"sunset\": 1675183598,\n",
      "        \"type\": 2\n",
      "    },\n",
      "    \"timezone\": 0,\n",
      "    \"visibility\": 10000,\n",
      "    \"weather\": [\n",
      "        {\n",
      "            \"description\": \"scattered clouds\",\n",
      "            \"icon\": \"03n\",\n",
      "            \"id\": 802,\n",
      "            \"main\": \"Clouds\"\n",
      "        }\n",
      "    ],\n",
      "    \"wind\": {\n",
      "        \"deg\": 240,\n",
      "        \"speed\": 4.63\n",
      "    }\n",
      "}\n"
     ]
    }
   ],
   "source": [
    "url = \"https://api.openweathermap.org/data/2.5/weather?q=\" \n",
    "city = \"london\"\n",
    "city_url = city.title() + \"&appid=\" + weather_api_key\n",
    "complete_url = url + city_url\n",
    "#https://api.openweathermap.org/data/2.5/weather?q=London&appid={API key}\n",
    "#print(complete_url)\n",
    "#response = requests.get(complete_url)\n",
    "response_json = requests.get(complete_url).json()\n",
    "print(json.dumps(response_json, indent=4, sort_keys=True))\n",
    "#pprint.pprint(response_json)"
   ]
  },
  {
   "cell_type": "code",
   "execution_count": 15,
   "id": "e61fb4de",
   "metadata": {},
   "outputs": [
    {
     "name": "stdout",
     "output_type": "stream",
     "text": [
      "[{'id': 802, 'main': 'Clouds', 'description': 'scattered clouds', 'icon': '03n'}]\n"
     ]
    }
   ],
   "source": [
    "# Parse the JSON and retrieve data\n",
    "#city_weather = # YOUR CODE HERE\n",
    "print(response_json[\"weather\"])"
   ]
  },
  {
   "cell_type": "code",
   "execution_count": 19,
   "id": "d3e32e7c",
   "metadata": {},
   "outputs": [
    {
     "data": {
      "text/plain": [
       "4.63"
      ]
     },
     "execution_count": 19,
     "metadata": {},
     "output_type": "execute_result"
    }
   ],
   "source": [
    "city_lat = response_json[\"coord\"][\"lat\"]\n",
    "city_lng = response_json[\"coord\"][\"lon\"]\n",
    "city_max_temp = response_json[\"main\"][\"temp_max\"]\n",
    "city_humidity = response_json[\"main\"][\"humidity\"]\n",
    "city_clouds = response_json[\"clouds\"][\"all\"]\n",
    "city_wind = response_json[\"wind\"][\"speed\"]\n",
    "city_country = response_json[\"sys\"][\"country\"]\n",
    "city_date = response_json[\"dt\"]\n",
    "city_id = response_json[\"id\"]\n",
    "city_wind"
   ]
  },
  {
   "cell_type": "code",
   "execution_count": 68,
   "id": "6e260513",
   "metadata": {},
   "outputs": [
    {
     "data": {
      "text/plain": [
       "[{'id': 500, 'main': 'Rain', 'description': 'light rain', 'icon': '10n'},\n",
       " {'id': 701, 'main': 'Mist', 'description': 'mist', 'icon': '50n'}]"
      ]
     },
     "execution_count": 68,
     "metadata": {},
     "output_type": "execute_result"
    }
   ],
   "source": [
    "city_weather = response_json[\"weather\"]\n",
    "city_weather"
   ]
  },
  {
   "cell_type": "code",
   "execution_count": null,
   "id": "d49c5220",
   "metadata": {},
   "outputs": [],
   "source": []
  }
 ],
 "metadata": {
  "kernelspec": {
   "display_name": "PyhtonData",
   "language": "python",
   "name": "pyhtondata"
  },
  "language_info": {
   "codemirror_mode": {
    "name": "ipython",
    "version": 3
   },
   "file_extension": ".py",
   "mimetype": "text/x-python",
   "name": "python",
   "nbconvert_exporter": "python",
   "pygments_lexer": "ipython3",
   "version": "3.7.7"
  }
 },
 "nbformat": 4,
 "nbformat_minor": 5
}
