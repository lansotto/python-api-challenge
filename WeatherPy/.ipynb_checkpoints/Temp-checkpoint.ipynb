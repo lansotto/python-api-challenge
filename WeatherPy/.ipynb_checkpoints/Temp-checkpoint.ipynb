{
 "cells": [
  {
   "cell_type": "code",
   "execution_count": 33,
   "id": "e93ac56d",
   "metadata": {},
   "outputs": [],
   "source": [
    "# Dependencies and Setup\n",
    "import matplotlib.pyplot as plt\n",
    "import pandas as pd\n",
    "import numpy as np\n",
    "import requests\n",
    "import time\n",
    "from scipy.stats import linregress\n",
    "import json\n",
    "\n",
    "# Impor the OpenWeatherMap API key\n",
    "from api_keys import weather_api_key\n",
    "\n",
    "# Import citipy to determine the cities based on latitude and longitude\n",
    "from citipy import citipy"
   ]
  },
  {
   "cell_type": "code",
   "execution_count": 37,
   "id": "1d6b93a7",
   "metadata": {},
   "outputs": [
    {
     "name": "stdout",
     "output_type": "stream",
     "text": [
      "https://api.openweathermap.org/data/2.5/weather?q=Cambridge&appid=659223993a6a845d76669c16e400f65c\n",
      "{\n",
      "    \"base\": \"stations\",\n",
      "    \"clouds\": {\n",
      "        \"all\": 40\n",
      "    },\n",
      "    \"cod\": 200,\n",
      "    \"coord\": {\n",
      "        \"lat\": 43.3601,\n",
      "        \"lon\": -80.3127\n",
      "    },\n",
      "    \"dt\": 1675055666,\n",
      "    \"id\": 5913695,\n",
      "    \"main\": {\n",
      "        \"feels_like\": 258.43,\n",
      "        \"humidity\": 73,\n",
      "        \"pressure\": 1023,\n",
      "        \"temp\": 265.39,\n",
      "        \"temp_max\": 267.48,\n",
      "        \"temp_min\": 265.36\n",
      "    },\n",
      "    \"name\": \"Cambridge\",\n",
      "    \"sys\": {\n",
      "        \"country\": \"CA\",\n",
      "        \"id\": 836,\n",
      "        \"sunrise\": 1675082370,\n",
      "        \"sunset\": 1675117762,\n",
      "        \"type\": 1\n",
      "    },\n",
      "    \"timezone\": -18000,\n",
      "    \"visibility\": 10000,\n",
      "    \"weather\": [\n",
      "        {\n",
      "            \"description\": \"scattered clouds\",\n",
      "            \"icon\": \"03n\",\n",
      "            \"id\": 802,\n",
      "            \"main\": \"Clouds\"\n",
      "        }\n",
      "    ],\n",
      "    \"wind\": {\n",
      "        \"deg\": 330,\n",
      "        \"speed\": 5.14\n",
      "    }\n",
      "}\n"
     ]
    }
   ],
   "source": [
    "url = \"https://api.openweathermap.org/data/2.5/weather?q=\" \n",
    "city = \"cambridge\"\n",
    "city_url = city.title() + \"&appid=\" + weather_api_key\n",
    "complete_url = url + city_url\n",
    "#https://api.openweathermap.org/data/2.5/weather?q=London&appid={API key}\n",
    "print(complete_url)\n",
    "response = requests.get(complete_url)\n",
    "\n",
    "response_json = response.json()\n",
    "print(json.dumps(response_json, indent=4, sort_keys=True))"
   ]
  },
  {
   "cell_type": "code",
   "execution_count": null,
   "id": "574f0306",
   "metadata": {},
   "outputs": [],
   "source": [
    "# Parse the JSON and retrieve data\n",
    "        city_weather = # YOUR CODE HERE"
   ]
  },
  {
   "cell_type": "code",
   "execution_count": null,
   "id": "390b86a2",
   "metadata": {},
   "outputs": [],
   "source": []
  }
 ],
 "metadata": {
  "kernelspec": {
   "display_name": "PyhtonData",
   "language": "python",
   "name": "pyhtondata"
  },
  "language_info": {
   "codemirror_mode": {
    "name": "ipython",
    "version": 3
   },
   "file_extension": ".py",
   "mimetype": "text/x-python",
   "name": "python",
   "nbconvert_exporter": "python",
   "pygments_lexer": "ipython3",
   "version": "3.7.7"
  }
 },
 "nbformat": 4,
 "nbformat_minor": 5
}
